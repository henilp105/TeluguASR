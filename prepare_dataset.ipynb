{
  "cells": [
    {
      "cell_type": "code",
      "execution_count": null,
      "metadata": {
        "colab": {
          "base_uri": "https://localhost:8080/"
        },
        "id": "s4PCJsN9f4qs",
        "outputId": "39c43f5c-4149-47c7-babe-cc1cc40dccb6"
      },
      "outputs": [
        {
          "name": "stdout",
          "output_type": "stream",
          "text": [
            "Mounted at /content/gdrive/\n"
          ]
        }
      ],
      "source": [
        "from google.colab import drive\n",
        "\n",
        "drive.mount('/content/gdrive/')"
      ]
    },
    {
      "cell_type": "code",
      "execution_count": null,
      "metadata": {
        "colab": {
          "base_uri": "https://localhost:8080/"
        },
        "id": "-ZWv7jUihjDH",
        "outputId": "66951a24-de07-4ea5-db6c-1a82bc9802a0"
      },
      "outputs": [
        {
          "name": "stdout",
          "output_type": "stream",
          "text": [
            "Filesystem      Size  Used Avail Use% Mounted on\n",
            "overlay         108G   39G   70G  36% /\n",
            "tmpfs            64M     0   64M   0% /dev\n",
            "tmpfs           6.4G     0  6.4G   0% /sys/fs/cgroup\n",
            "shm             5.9G     0  5.9G   0% /dev/shm\n",
            "tmpfs           6.4G   24K  6.4G   1% /var/colab\n",
            "/dev/sda1       114G   40G   75G  35% /etc/hosts\n",
            "tmpfs           6.4G     0  6.4G   0% /proc/acpi\n",
            "tmpfs           6.4G     0  6.4G   0% /proc/scsi\n",
            "tmpfs           6.4G     0  6.4G   0% /sys/firmware\n",
            "drive           108G   42G   67G  39% /content/gdrive\n"
          ]
        }
      ],
      "source": [
        "!df -h"
      ]
    },
    {
      "cell_type": "code",
      "execution_count": null,
      "metadata": {
        "colab": {
          "base_uri": "https://localhost:8080/"
        },
        "id": "EHzEj7CWRRs5",
        "outputId": "c169f6a8-2fc5-472f-de41-5a271c32c930"
      },
      "outputs": [
        {
          "name": "stdout",
          "output_type": "stream",
          "text": [
            "mkdir: cannot create directory ‘/content/gdrive/MyDrive/OpenSLR-ASR’: File exists\n"
          ]
        }
      ],
      "source": [
        "save_dir = \"/content/gdrive/MyDrive/OpenSLR-ASR\"\n",
        "!mkdir {save_dir}"
      ]
    },
    {
      "cell_type": "code",
      "execution_count": null,
      "metadata": {
        "colab": {
          "base_uri": "https://localhost:8080/"
        },
        "id": "NBXn7LU8NxOy",
        "outputId": "e1ab9c11-e6b2-4405-a5a4-0a3ee99097af"
      },
      "outputs": [
        {
          "name": "stdout",
          "output_type": "stream",
          "text": [
            "--2021-03-21 11:36:24--  https://www.openslr.org/resources/66/line_index_female.tsv\n",
            "Resolving www.openslr.org (www.openslr.org)... 46.101.158.64\n",
            "Connecting to www.openslr.org (www.openslr.org)|46.101.158.64|:443... connected.\n",
            "HTTP request sent, awaiting response... 200 OK\n",
            "Length: 273856 (267K) [text/tab-separated-values]\n",
            "Saving to: ‘line_index_female.tsv’\n",
            "\n",
            "line_index_female.t 100%[===================>] 267.44K   679KB/s    in 0.4s    \n",
            "\n",
            "2021-03-21 11:36:25 (679 KB/s) - ‘line_index_female.tsv’ saved [273856/273856]\n",
            "\n",
            "--2021-03-21 11:36:25--  https://www.openslr.org/resources/66/line_index_male.tsv\n",
            "Resolving www.openslr.org (www.openslr.org)... 46.101.158.64\n",
            "Connecting to www.openslr.org (www.openslr.org)|46.101.158.64|:443... connected.\n",
            "HTTP request sent, awaiting response... 200 OK\n",
            "Length: 266171 (260K) [text/tab-separated-values]\n",
            "Saving to: ‘line_index_male.tsv’\n",
            "\n",
            "line_index_male.tsv 100%[===================>] 259.93K   648KB/s    in 0.4s    \n",
            "\n",
            "2021-03-21 11:36:26 (648 KB/s) - ‘line_index_male.tsv’ saved [266171/266171]\n",
            "\n"
          ]
        }
      ],
      "source": [
        "!wget https://www.openslr.org/resources/66/line_index_female.tsv\n",
        "!wget https://www.openslr.org/resources/66/line_index_male.tsv"
      ]
    },
    {
      "cell_type": "code",
      "execution_count": null,
      "metadata": {
        "id": "N8NTWVjoOF_O"
      },
      "outputs": [],
      "source": [
        "import pandas as pd\n",
        "import os\n",
        "\n",
        "SEED = 42\n",
        "\n",
        "df = pd.concat([\n",
        "    pd.read_csv(f\"line_index_male.tsv\", sep=\"\\t\",header=None,names=[\"path\",\"sentence\"]),\n",
        "    pd.read_csv(f\"line_index_female.tsv\", sep=\"\\t\",header=None,names=[\"path\",\"sentence\"])\n",
        "])"
      ]
    },
    {
      "cell_type": "code",
      "execution_count": null,
      "metadata": {
        "id": "9o8O6W4SkUBL"
      },
      "outputs": [],
      "source": [
        "_df = df.copy()\n",
        "df[\"path\"] = df[\"path\"]+\".wav\""
      ]
    },
    {
      "cell_type": "code",
      "execution_count": null,
      "metadata": {
        "colab": {
          "base_uri": "https://localhost:8080/",
          "height": 204
        },
        "id": "bIcj2R2cOaO9",
        "outputId": "2c1b7bcc-4fde-47f7-c754-0fdc8f497a8b"
      },
      "outputs": [
        {
          "data": {
            "text/html": [
              "<div>\n",
              "<style scoped>\n",
              "    .dataframe tbody tr th:only-of-type {\n",
              "        vertical-align: middle;\n",
              "    }\n",
              "\n",
              "    .dataframe tbody tr th {\n",
              "        vertical-align: top;\n",
              "    }\n",
              "\n",
              "    .dataframe thead th {\n",
              "        text-align: right;\n",
              "    }\n",
              "</style>\n",
              "<table border=\"1\" class=\"dataframe\">\n",
              "  <thead>\n",
              "    <tr style=\"text-align: right;\">\n",
              "      <th></th>\n",
              "      <th>path</th>\n",
              "      <th>sentence</th>\n",
              "    </tr>\n",
              "  </thead>\n",
              "  <tbody>\n",
              "    <tr>\n",
              "      <th>0</th>\n",
              "      <td>tem_07220_01981175708.wav</td>\n",
              "      <td>దీనిని తటస్థీకరణము అందురు</td>\n",
              "    </tr>\n",
              "    <tr>\n",
              "      <th>1</th>\n",
              "      <td>tem_06359_01516502961.wav</td>\n",
              "      <td>దీనిని స్కోరుగా అనువదిస్తారు</td>\n",
              "    </tr>\n",
              "    <tr>\n",
              "      <th>2</th>\n",
              "      <td>tem_02812_01868000938.wav</td>\n",
              "      <td>రెండంతస్తుల భవనాలు పూర్తిగా నీట మునిగాయి</td>\n",
              "    </tr>\n",
              "    <tr>\n",
              "      <th>3</th>\n",
              "      <td>tem_08680_00300488472.wav</td>\n",
              "      <td>పిన్ కోడ్ అయిదు లక్షలు అయిదు వేలు అయిదు వందలు ...</td>\n",
              "    </tr>\n",
              "    <tr>\n",
              "      <th>4</th>\n",
              "      <td>tem_02769_01899577322.wav</td>\n",
              "      <td>ద్రవరూపంలోని మలినాలు తేమ వంటివి</td>\n",
              "    </tr>\n",
              "  </tbody>\n",
              "</table>\n",
              "</div>"
            ],
            "text/plain": [
              "                        path                                           sentence\n",
              "0  tem_07220_01981175708.wav                          దీనిని తటస్థీకరణము అందురు\n",
              "1  tem_06359_01516502961.wav                       దీనిని స్కోరుగా అనువదిస్తారు\n",
              "2  tem_02812_01868000938.wav           రెండంతస్తుల భవనాలు పూర్తిగా నీట మునిగాయి\n",
              "3  tem_08680_00300488472.wav  పిన్ కోడ్ అయిదు లక్షలు అయిదు వేలు అయిదు వందలు ...\n",
              "4  tem_02769_01899577322.wav                    ద్రవరూపంలోని మలినాలు తేమ వంటివి"
            ]
          },
          "execution_count": 9,
          "metadata": {
            "tags": []
          },
          "output_type": "execute_result"
        }
      ],
      "source": [
        "df.head()"
      ]
    },
    {
      "cell_type": "code",
      "execution_count": null,
      "metadata": {
        "colab": {
          "base_uri": "https://localhost:8080/"
        },
        "id": "DxUjI2hVPHJG",
        "outputId": "efdbc66f-bf7a-4c45-a47a-e04d9ac3eba3"
      },
      "outputs": [
        {
          "data": {
            "text/plain": [
              "4448"
            ]
          },
          "execution_count": 10,
          "metadata": {
            "tags": []
          },
          "output_type": "execute_result"
        }
      ],
      "source": [
        "len(df)"
      ]
    },
    {
      "cell_type": "code",
      "execution_count": null,
      "metadata": {
        "colab": {
          "base_uri": "https://localhost:8080/"
        },
        "id": "w6mVjnfpcYfb",
        "outputId": "bb54b937-ab17-4d92-b24b-38a622d6b75a"
      },
      "outputs": [
        {
          "name": "stdout",
          "output_type": "stream",
          "text": [
            "3113\n",
            "1335\n"
          ]
        }
      ],
      "source": [
        "from sklearn.model_selection import train_test_split\n",
        "train_df, test_df = train_test_split(df, test_size=0.3, random_state = SEED)\n",
        "\n",
        "print(len(train_df))\n",
        "print(len(test_df))\n",
        "\n",
        "!mkdir {save_dir}/te\n",
        "train_df.to_csv(f\"{save_dir}/te/train.tsv\",sep=\"\\t\",index=None)\n",
        "test_df.to_csv(f\"{save_dir}/te/test.tsv\",sep=\"\\t\",index=None)"
      ]
    }
  ],
  "metadata": {
    "colab": {
      "provenance": []
    },
    "kernelspec": {
      "display_name": "Python 3",
      "name": "python3"
    },
    "language_info": {
      "name": "python"
    }
  },
  "nbformat": 4,
  "nbformat_minor": 0
}
